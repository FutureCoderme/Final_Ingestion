{
  "nbformat": 4,
  "nbformat_minor": 0,
  "metadata": {
    "colab": {
      "name": "FIle_Ingestion_and_Validation.ipynb",
      "provenance": [],
      "toc_visible": true
    },
    "kernelspec": {
      "name": "python3",
      "display_name": "Python 3"
    },
    "language_info": {
      "name": "python"
    }
  },
  "cells": [
    {
      "cell_type": "markdown",
      "metadata": {
        "id": "M9IleqphLTu2"
      },
      "source": [
        "NAME: ILYAS NAYLE\n",
        "\n",
        "---\n",
        "\n",
        "\n",
        "BATCH CODE: LISUM03\n",
        "\n",
        "---\n",
        "\n",
        "\n",
        "Date of submission: 27/09/2021\n",
        "\n",
        "---\n",
        "\n",
        "\n",
        "Submitted to: Data Glacier"
      ]
    },
    {
      "cell_type": "code",
      "metadata": {
        "colab": {
          "base_uri": "https://localhost:8080/"
        },
        "id": "qIGVVeUEJ1gf",
        "outputId": "4a1e8b77-c1c8-45a1-a28e-2a9cd9c6006f"
      },
      "source": [
        "\n",
        "from google.colab import drive\n",
        "drive.mount('/gdrive')"
      ],
      "execution_count": null,
      "outputs": [
        {
          "output_type": "stream",
          "name": "stdout",
          "text": [
            "Drive already mounted at /gdrive; to attempt to forcibly remount, call drive.mount(\"/gdrive\", force_remount=True).\n"
          ]
        }
      ]
    },
    {
      "cell_type": "code",
      "metadata": {
        "colab": {
          "base_uri": "https://localhost:8080/"
        },
        "id": "BXJ_fKEsKeEX",
        "outputId": "b7d373aa-eed5-490b-b4b7-31356c6d5ef2"
      },
      "source": [
        "!ls \"/gdrive/My Drive/data\""
      ],
      "execution_count": null,
      "outputs": [
        {
          "output_type": "stream",
          "name": "stdout",
          "text": [
            "month_sale.csv\n"
          ]
        }
      ]
    },
    {
      "cell_type": "code",
      "metadata": {
        "id": "02csb3kcKjKg"
      },
      "source": [
        "\n",
        "import os\n",
        "os.chdir(\"/gdrive/My Drive/data\")"
      ],
      "execution_count": null,
      "outputs": []
    },
    {
      "cell_type": "markdown",
      "metadata": {
        "id": "CUJfLjZSLFoo"
      },
      "source": [
        "#Reading files with PANDAS\n"
      ]
    },
    {
      "cell_type": "code",
      "metadata": {
        "id": "dxX_VRXtKtTa"
      },
      "source": [
        "!python -m pip install \"dask[dataframe]\""
      ],
      "execution_count": null,
      "outputs": []
    },
    {
      "cell_type": "code",
      "metadata": {
        "colab": {
          "base_uri": "https://localhost:8080/"
        },
        "id": "QGVW7dwRKyqA",
        "outputId": "77809db1-0dcf-4d00-cb66-a80717114946"
      },
      "source": [
        "import csv\n",
        "import time\n",
        "import pandas as pd\n",
        "import dask.dataframe\n",
        "\n",
        "input_file = \"month_sale.csv\"\n",
        "\n",
        "start_time = time.time()\n",
        "data = csv.DictReader(open(input_file))\n",
        "print(\"csv.DictReader took %s seconds\" % (time.time() - start_time))\n",
        "\n",
        "start_time = time.time()\n",
        "data = pd.read_csv('month_sale.csv', sep=', ')\n",
        "print(\"pd.read_csv took %s seconds\" % (time.time() - start_time))\n",
        "\n",
        "start_time = time.time()\n",
        "data = pd.read_csv(\"month_sale.csv\", chunksize=1000000)\n",
        "print(\"pd.read_csv with chunksize took %s seconds\" % (time.time() - start_time))\n",
        "\n",
        "start_time = time.time()\n",
        "data = dask.dataframe.read_csv(input_file)\n",
        "print(\"dask.dataframe took %s seconds\" % (time.time() - start_time))"
      ],
      "execution_count": null,
      "outputs": [
        {
          "output_type": "stream",
          "name": "stdout",
          "text": [
            "csv.DictReader took 0.0012335777282714844 seconds\n"
          ]
        },
        {
          "output_type": "stream",
          "name": "stderr",
          "text": [
            "/usr/local/lib/python3.7/dist-packages/ipykernel_launcher.py:13: ParserWarning: Falling back to the 'python' engine because the 'c' engine does not support regex separators (separators > 1 char and different from '\\s+' are interpreted as regex); you can avoid this warning by specifying engine='python'.\n",
            "  del sys.path[0]\n"
          ]
        },
        {
          "output_type": "stream",
          "name": "stdout",
          "text": [
            "pd.read_csv took 4.186372518539429 seconds\n",
            "pd.read_csv with chunksize took 0.0755155086517334 seconds\n",
            "dask.dataframe took 0.019131898880004883 seconds\n"
          ]
        }
      ]
    }
  ]
}